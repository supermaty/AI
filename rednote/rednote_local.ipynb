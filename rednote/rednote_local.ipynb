{
 "cells": [
  {
   "cell_type": "code",
   "id": "initial_id",
   "metadata": {
    "collapsed": true,
    "ExecuteTime": {
     "end_time": "2025-08-13T15:19:05.837296Z",
     "start_time": "2025-08-13T15:19:05.829323Z"
    }
   },
   "source": [
    "import requests\n",
    "\n",
    "def chat_with_private_model(product_name: str, tone_style: str = \"活泼甜美\"):\n",
    "    url = 'http://localhost:3000/api/chat/completions'\n",
    "    headers = {\n",
    "        'Authorization': f'Bearer sk-830e3768a6334044bcbc8b32f9888be6',\n",
    "        'Content-Type': 'application/json'\n",
    "    }\n",
    "    data = {\n",
    "      \"model\": \"deepseek-r1:1.5b\",\n",
    "      \"messages\": [\n",
    "        {\n",
    "            \"role\": \"user\",\"content\": f\"请为产品「{product_name}」生成一篇小红书爆款文案。要求：语气{tone_style}，包含标题、正文、至少5个相关标签和5个表情符号。请以完整的JSON格式输出，并确保JSON内容用markdown代码块包裹（例如：```json{{...}}```）。\"\n",
    "        }\n",
    "      ]\n",
    "    }\n",
    "    response = requests.post(url, headers=headers, json=data)\n",
    "\n",
    "    #return response.json()\n",
    "\n",
    "    response_message_content = response.json()[\"choices\"][0][\"message\"][\"content\"]\n",
    "\n",
    "    if(response_message_content):\n",
    "        print(f\"[模型生成结果] {response_message_content}\")\n",
    "        # --- START: 添加 JSON 提取和解析逻辑 ---\n",
    "        json_string_match = re.search(r\"```json\\s*(\\{.*\\})\\s*```\", response_message_content, re.DOTALL)\n",
    "\n",
    "        if json_string_match:\n",
    "            extracted_json_content = json_string_match.group(1)\n",
    "            try:\n",
    "                final_response = json.loads(extracted_json_content)\n",
    "                print(\"Agent: 任务完成，成功解析最终JSON文案。\")\n",
    "                return json.dumps(final_response, ensure_ascii=False, indent=2)\n",
    "            except json.JSONDecodeError as e:\n",
    "                print(f\"Agent: 提取到JSON块但解析失败: {e}\")\n",
    "                print(f\"尝试解析的字符串:\\n{extracted_json_content}\")\n",
    "        else:\n",
    "            # 如果没有匹配到 ```json 块，尝试直接解析整个 content\n",
    "            try:\n",
    "                final_response = json.loads(response_message_content)\n",
    "                print(\"Agent: 任务完成，直接解析最终JSON文案。\")\n",
    "                return json.dumps(final_response, ensure_ascii=False, indent=2)\n",
    "            except json.JSONDecodeError:\n",
    "                print(\"Agent: 生成了非JSON格式内容或非Markdown JSON块，可能还在思考或出错。\")\n",
    "        # --- END: 添加 JSON 提取和解析逻辑 ---\n",
    "    else:\n",
    "        print(\"Agent: 未知响应，可能需要更多交互。\")\n",
    "\n",
    "    return \"未能成功生成文案。\""
   ],
   "outputs": [],
   "execution_count": 32
  },
  {
   "metadata": {
    "ExecuteTime": {
     "end_time": "2025-08-13T15:28:56.424224Z",
     "start_time": "2025-08-13T15:28:56.417627Z"
    }
   },
   "cell_type": "code",
   "source": [
    "import re\n",
    "import json\n",
    "\n",
    "def extract_json_and_format(input_string):\n",
    "\n",
    "    try:\n",
    "        # 解析JSON字符串\n",
    "        json_data = json.loads(input_string)\n",
    "\n",
    "        # 构建Markdown格式结果\n",
    "        result = f\"# {json_data['标题']}\\n\\n\"\n",
    "        result += f\"{json_data['正文']}\\n\\n\"\n",
    "        result += f\"**标签**: {', '.join(json_data['相关标签'])}\\n\\n\"\n",
    "        result += f\"**表情符号**: {' '.join(json_data['相关表情符号'])}\"\n",
    "\n",
    "        return result\n",
    "\n",
    "    except json.JSONDecodeError:\n",
    "        return \"JSON解析失败\"\n",
    "    except KeyError:\n",
    "        return \"JSON结构不完整\""
   ],
   "id": "28f9b783c2f2a5e7",
   "outputs": [],
   "execution_count": 37
  },
  {
   "metadata": {
    "ExecuteTime": {
     "end_time": "2025-08-13T15:24:41.200203Z",
     "start_time": "2025-08-13T15:19:11.604531Z"
    }
   },
   "cell_type": "code",
   "source": [
    "#test query local docker ollama\n",
    "product_name_3 = \"视黄醇抗皱晚霜\"\n",
    "tone_style_3 = \"甜美可爱\"\n",
    "result_3 = chat_with_private_model(product_name_3, tone_style_3)\n",
    "\n",
    "print(result_3)"
   ],
   "id": "7dfc06f1a6bc2d4b",
   "outputs": [
    {
     "name": "stdout",
     "output_type": "stream",
     "text": [
      "[模型生成结果] <think>\n",
      "好，用户让我写一篇关于“视黄醇抗皱晚霜”的小红书文案，要求语气甜美可爱，包含标题、正文，至少5个相关标签和5个表情符号。而且要以完整的JSON格式输出，并用markdown代码块包裹。\n",
      "\n",
      "首先，我得理解用户的需求。他们可能是一个喜欢时尚产品的小白，想要在小红书上快速吸引关注，分享产品的使用体验和效果。甜美的语气能增加互动率，所以我要让文案充满活力和亲切感。\n",
      "\n",
      "接下来，标题部分要突出抗皱的效果和细腻的感觉，同时用可爱的情绪词开头，比如“超嫩细腻”这样的词汇，吸引眼球。正文需要详细说明产品成分，强调高浓度的提亮效果，可能加入一些具体的例子，比如在晚上使用后皮肤变得光滑细腻。还要提到适合不同肤质的人群，强调温和非刺激性的特点，这样读者觉得适用性广。\n",
      "\n",
      "然后，相关标签要选择自然、抗皱、细腻、紧致这些词汇，同时用可爱的表情符号来增加视觉吸引力。另外，可以加入一些关于坚持提升效果的鼓励语句，让文案更有动力感。\n",
      "\n",
      "最后，我需要确保整个结构清晰，有标题和正文，至少五个标签和表情符号，整个内容都要用简洁有力的语言表达出来，并且符合小红书的风格，可能还需要添加一些相关的话题标签来扩大搜索范围。\n",
      "\n",
      "总结一下，步骤应该是先构思好文案内容，再按照要求调整格式和语言，确保每个要素都满足用户的需求。\n",
      "</think>\n",
      "\n",
      "```json{\n",
      "    \"标题\": \"超嫩细腻的抗皱效果，用视黄醇晚霜让你的皮肤变得细腻有神！\",\n",
      "    \"正文\": \"姐妹们！看这✨ 视黄醇抗皱晚霜，真的是你的皮肤最温柔的选择！它能深层提亮肌肤，让肤色瞬间变细腻光滑！晚上用起来还能有效紧致皮肤。无论是敏感肌还是油性肌，这款产品都能让你的皮肤焕发光彩！关键是它是温和超非刺激性的，让你轻松享受抗皱的效果。用完后皮肤真的比以前更紧实， super嫩 super smooth！✨ 嘿Oh~ 让您的锁骨线消失，让你的气质瞬间提升！✨ 无论是日常护肤还是日常护理，这是一款非常不错的选择哦！#自然 beauty #抗皱 #细腻感 #紧致肌肤\",\n",
      "    \"相关标签\": [\"自然\", \"抗皱\", \"细腻\", \"紧致\", \"皮肤\"],\n",
      "    \"相关表情符号\": [\"萌\", \"甜蜜\", \"温柔\", \"温暖\", \"神奇\"]\n",
      "}\n",
      "```\n",
      "Agent: 任务完成，成功解析最终JSON文案。\n",
      "{\n",
      "  \"标题\": \"超嫩细腻的抗皱效果，用视黄醇晚霜让你的皮肤变得细腻有神！\",\n",
      "  \"正文\": \"姐妹们！看这✨ 视黄醇抗皱晚霜，真的是你的皮肤最温柔的选择！它能深层提亮肌肤，让肤色瞬间变细腻光滑！晚上用起来还能有效紧致皮肤。无论是敏感肌还是油性肌，这款产品都能让你的皮肤焕发光彩！关键是它是温和超非刺激性的，让你轻松享受抗皱的效果。用完后皮肤真的比以前更紧实， super嫩 super smooth！✨ 嘿Oh~ 让您的锁骨线消失，让你的气质瞬间提升！✨ 无论是日常护肤还是日常护理，这是一款非常不错的选择哦！#自然 beauty #抗皱 #细腻感 #紧致肌肤\",\n",
      "  \"相关标签\": [\n",
      "    \"自然\",\n",
      "    \"抗皱\",\n",
      "    \"细腻\",\n",
      "    \"紧致\",\n",
      "    \"皮肤\"\n",
      "  ],\n",
      "  \"相关表情符号\": [\n",
      "    \"萌\",\n",
      "    \"甜蜜\",\n",
      "    \"温柔\",\n",
      "    \"温暖\",\n",
      "    \"神奇\"\n",
      "  ]\n",
      "}\n"
     ]
    }
   ],
   "execution_count": 33
  },
  {
   "metadata": {
    "ExecuteTime": {
     "end_time": "2025-08-13T15:29:19.583514Z",
     "start_time": "2025-08-13T15:29:03.450019Z"
    }
   },
   "cell_type": "code",
   "source": [
    "markdown_note = extract_json_and_format(result_3)\n",
    "\n",
    "print(\"--- <UNK> (Markdown) ---\")\n",
    "print(markdown_note)"
   ],
   "id": "9f195a75a96f40b3",
   "outputs": [
    {
     "name": "stdout",
     "output_type": "stream",
     "text": [
      "--- <UNK> (Markdown) ---\n",
      "# 超嫩细腻的抗皱效果，用视黄醇晚霜让你的皮肤变得细腻有神！\n",
      "\n",
      "姐妹们！看这✨ 视黄醇抗皱晚霜，真的是你的皮肤最温柔的选择！它能深层提亮肌肤，让肤色瞬间变细腻光滑！晚上用起来还能有效紧致皮肤。无论是敏感肌还是油性肌，这款产品都能让你的皮肤焕发光彩！关键是它是温和超非刺激性的，让你轻松享受抗皱的效果。用完后皮肤真的比以前更紧实， super嫩 super smooth！✨ 嘿Oh~ 让您的锁骨线消失，让你的气质瞬间提升！✨ 无论是日常护肤还是日常护理，这是一款非常不错的选择哦！#自然 beauty #抗皱 #细腻感 #紧致肌肤\n",
      "\n",
      "**标签**: 自然, 抗皱, 细腻, 紧致, 皮肤\n",
      "\n",
      "**表情符号**: 萌 甜蜜 温柔 温暖 神奇\n"
     ]
    }
   ],
   "execution_count": 38
  }
 ],
 "metadata": {
  "kernelspec": {
   "display_name": "Python 3",
   "language": "python",
   "name": "python3"
  },
  "language_info": {
   "codemirror_mode": {
    "name": "ipython",
    "version": 2
   },
   "file_extension": ".py",
   "mimetype": "text/x-python",
   "name": "python",
   "nbconvert_exporter": "python",
   "pygments_lexer": "ipython2",
   "version": "2.7.6"
  }
 },
 "nbformat": 4,
 "nbformat_minor": 5
}
